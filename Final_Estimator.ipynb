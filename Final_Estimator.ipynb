{
 "cells": [
  {
   "cell_type": "markdown",
   "id": "99c1f3c0-8208-4bac-82a6-44eedae57bed",
   "metadata": {},
   "source": [
    "### View the current logical CPU count of the server"
   ]
  },
  {
   "cell_type": "code",
   "execution_count": 1,
   "id": "6c46852e-fbb3-488a-9507-719df4e2d70b",
   "metadata": {
    "tags": []
   },
   "outputs": [
    {
     "name": "stdout",
     "output_type": "stream",
     "text": [
      "CPU total: 128\n"
     ]
    }
   ],
   "source": [
    "import os\n",
    "\n",
    "NUM_CPU = len(os.sched_getaffinity(0)) #os.cpu_count() \n",
    "\n",
    "print(f'CPU total: {NUM_CPU}')"
   ]
  },
  {
   "cell_type": "markdown",
   "id": "19213449-c0ad-4197-b996-59f507d3b277",
   "metadata": {},
   "source": [
    "### Limit the number of threads that can be called by a single process"
   ]
  },
  {
   "cell_type": "code",
   "execution_count": 2,
   "id": "f322b962-4c1e-457a-aa78-26739f9dd273",
   "metadata": {
    "tags": []
   },
   "outputs": [
    {
     "name": "stdout",
     "output_type": "stream",
     "text": [
      "Maximum number of parallel processes: 32\n"
     ]
    }
   ],
   "source": [
    "NUM_THREADS = 4\n",
    "\n",
    "os.environ[\"MKL_NUM_THREADS\"]     = str(NUM_THREADS)\n",
    "os.environ[\"NUMEXPR_NUM_THREADS\"] = str(NUM_THREADS)\n",
    "os.environ[\"OMP_NUM_THREADS\"]     = str(NUM_THREADS)\n",
    "\n",
    "NUM_PROCESS = NUM_CPU // NUM_THREADS\n",
    "print(f'Maximum number of parallel processes: {NUM_PROCESS}')"
   ]
  },
  {
   "cell_type": "markdown",
   "id": "c408f374-9bf6-4f3b-aa21-cddb20c76ca7",
   "metadata": {},
   "source": [
    "### Import numpy, multiprocessing and other packages"
   ]
  },
  {
   "cell_type": "code",
   "execution_count": null,
   "id": "752c95e5-2900-4abf-b1c3-d65a8c624a4c",
   "metadata": {},
   "outputs": [],
   "source": [
    "pip install statsmodels"
   ]
  },
  {
   "cell_type": "code",
   "execution_count": 3,
   "id": "27a84a99-37cb-4608-929a-ea798d60f355",
   "metadata": {
    "tags": []
   },
   "outputs": [],
   "source": [
    "import numpy as np\n",
    "from numpy.random import default_rng\n",
    "from time import time\n",
    "import multiprocessing as mp\n",
    "import pandas as pd\n",
    "import matplotlib.pyplot as plt\n",
    "import scipy.stats as st\n",
    "#import statsmodels.api as sm\n",
    "from sklearn.cluster import KMeans\n",
    "from sklearn.model_selection import train_test_split\n",
    "from sklearn import linear_model  \n",
    "import random\n",
    "import math"
   ]
  },
  {
   "cell_type": "markdown",
   "id": "511fca2c-052c-450b-8be9-962880c6d7d5",
   "metadata": {},
   "source": [
    "### Global invariant parameters"
   ]
  },
  {
   "cell_type": "code",
   "execution_count": 135,
   "id": "24a59ef8-68d6-42c6-b97c-ec0db1efc0e6",
   "metadata": {},
   "outputs": [],
   "source": [
    "K = 5; q = 8\n",
    "sigma = 1; theta = [3,1.5,0,0,2,0,0,0]; gamma = list(range(-4,3*K-4,3));\n",
    "pi = [0.15,0.2,0.3,0.25,0.1]\n",
    "mean = np.zeros(q)\n",
    "rho = 0.5\n",
    "i, j = np.mgrid[:q, :q]\n",
    "cov = rho**abs(i-j)"
   ]
  },
  {
   "cell_type": "markdown",
   "id": "03d4108f-9fcb-4a36-9c0c-1999b5b3f649",
   "metadata": {},
   "source": [
    "### Some functions needed for global calculations"
   ]
  },
  {
   "cell_type": "code",
   "execution_count": 136,
   "id": "c65c8cba-1d3c-4bb3-9050-3c4d5287f63a",
   "metadata": {},
   "outputs": [],
   "source": [
    "def dup_rows(a, indx, num_dups=1):\n",
    "    return np.insert(a,[indx+1]*num_dups,a[indx],axis=0)\n",
    "\n",
    "def dup_cols(a, indx, num_dups=1):\n",
    "    return np.insert(a,[indx+1]*num_dups,a[:,[indx]],axis=1)\n",
    "def function_exp(x):\n",
    "    return np.exp(x)\n",
    "function_vexp = np.vectorize(function_exp)\n",
    "def function_bin(p,x):\n",
    "    return (p**x)*(1-p)**(1-x)\n",
    "function_vbin = np.vectorize(function_bin)\n",
    "def function_binlog(p,x):\n",
    "    return (x*np.log(p)+(1-x)*np.log(1-p))\n",
    "function_vbinlog = np.vectorize(function_binlog)"
   ]
  },
  {
   "cell_type": "markdown",
   "id": "a837c924-164f-4b71-ba4e-9e443820d27c",
   "metadata": {},
   "source": [
    "### EM"
   ]
  },
  {
   "cell_type": "code",
   "execution_count": 137,
   "id": "15496a1d-3c4b-4539-b31a-2209f12883fd",
   "metadata": {},
   "outputs": [],
   "source": [
    "#Section 2.2-The initial estimator-EM\n",
    "def em_single_initial(n,K,priors,X,Y):\n",
    "    '''\n",
    "    EM算法的单次迭代\n",
    "    Arguments:\n",
    "    priors:[pi_t,gamma_t,theta_t,sigma_t]\n",
    "    Y:[n X 1 list]\n",
    "    X:[n X q matrix]\n",
    "    \n",
    "    Returns:\n",
    "    new_priors:[new_pi,new_gamma,new_theta,new_sigma]\n",
    "    pi_t = priors[1:K]; gamma_t = priors[K:2*K]\n",
    "    theta_t = priors[2*K:2*K+q]; sigma_t = priors[-1]\n",
    "    '''\n",
    "    pi_t = priors[0:K]; gamma_t = priors[K:2*K]\n",
    "    theta_t = priors[2*K:2*K+q]; sigma_t = priors[-1]\n",
    "    #E step -w_ik\n",
    "    c = Y-np.dot(X,theta_t)\n",
    "    g = np.array(gamma_t)\n",
    "    g_pi = np.array(pi_t)\n",
    "    a1 = (np.ones((K,n))*c.T).T\n",
    "    a2 = np.ones((n,K))*g\n",
    "    e_pri = -(a1-a2)**2/(2*sigma_t**2)\n",
    "    e_pri = function_vexp(e_pri)\n",
    "    a_pi = np.ones((n,K))*g_pi\n",
    "    w_t1 = (np.divide((e_pri*a_pi).T,(np.sum(e_pri*a_pi,1)).T)).T\n",
    "    \n",
    "\n",
    "    #M step \n",
    "    new_pi = np.average(w_t1, axis=0) \n",
    "    weight = np.divide(w_t1,sum(w_t1,0))\n",
    "    new_gamma = np.dot(weight.T, Y-np.dot(X, theta_t))\n",
    "    V = np.dot(w_t1,gamma_t)\n",
    "    trt_inv = np.dot(np.linalg.inv(np.dot(X.T,X)+np.eye(q)*0.001),X.T)\n",
    "    new_theta = np.dot(trt_inv,Y-V)\n",
    "    sum_sigma = 0\n",
    "\n",
    "    w_t1_gamma_t = np.dot(w_t1,gamma_t)\n",
    "    sum_sigma = {np.dot(((Y-np.dot(X,theta_t))**2).T,[1]*n)-\n",
    "              2*np.dot(np.multiply(Y-np.dot(X,theta_t),w_t1_gamma_t).T,[1]*n)+\n",
    "                np.dot(np.dot(w_t1,np.array(gamma_t)**2),[1]*n)}\n",
    "    new_sigma = (list(sum_sigma)[0]/n)**0.5\n",
    "    return list(new_pi)+list(new_gamma)+list(new_theta)+[new_sigma]"
   ]
  },
  {
   "cell_type": "code",
   "execution_count": 138,
   "id": "c382a185-52e7-4c2f-bff8-61862a7b55f1",
   "metadata": {},
   "outputs": [],
   "source": [
    "def initial_em(n,K,prior,X,Y,tol = 1e-3,iterations=10000):\n",
    "    '''\n",
    "    EM\n",
    "    param Y,X :Data\n",
    "    param prior：Initial\n",
    "    param tol：End of Iteration Threshold\n",
    "    param iterations：Maximum number of iterations\n",
    "    return：Locally optimal model parameters\n",
    "    '''\n",
    "    iteration = 0;\n",
    "    while iteration < iterations:\n",
    "        new_prior = em_single_initial(n,K,prior,X,Y)\n",
    "        delta_change = abs(np.array(prior)-np.array(new_prior))\n",
    "        if sum(delta_change**2)**0.5<tol:\n",
    "            break\n",
    "        else:\n",
    "            prior = new_prior\n",
    "            iteration +=1\n",
    "    return [new_prior,iteration]"
   ]
  },
  {
   "cell_type": "code",
   "execution_count": 140,
   "id": "c850d113-a040-4cf5-ae79-dcfe8db37c12",
   "metadata": {},
   "outputs": [],
   "source": [
    "def em_single_for_p(n,p,K,initial,prior_p,X,Y,Z):\n",
    "    '''\n",
    "    EM\n",
    "    Arguments:\n",
    "    initial: [pi_h,gamma_h,theta_h,sigma_h]\n",
    "    priors:pj [k X 1 list]\n",
    "    Y:[n X 1 list]\n",
    "    X:[n X q matrix]\n",
    "    Z:[n X p matrix]\n",
    "    j: for p\n",
    "    \n",
    "    Returns:\n",
    "    new_priors:new_pj\n",
    "    '''\n",
    "    pi_h = initial[0:K]; gamma_h = initial[K:2*K]\n",
    "    theta_h = initial[2*K:2*K+q]; sigma_h = initial[-1]\n",
    "    p_t = prior_p\n",
    "    #E step -pi_ik\n",
    "    c = Y-np.dot(X,theta_h)\n",
    "    g = np.array(gamma_h)\n",
    "    g_pi = np.array(pi_h)\n",
    "    a1 = (np.ones((K,n))*c.T).T\n",
    "    a2 = np.ones((n,K))*g\n",
    "    e_pri = -(a1-a2)**2/(2*sigma_h**2)\n",
    "    e_pri = function_vexp(e_pri)\n",
    "    eb_pri = np.zeros((K,n,p))\n",
    "    for k in range(K):\n",
    "        p_k = p_t[k,:]\n",
    "        p_k_ma = np.ones((n,p))*p_k\n",
    "        prod_k = p_k_ma*Z+(1-p_k_ma)*(1-Z)\n",
    "        eb_pri[k,:,:] = pi_h[k]*((np.ones((p,n))*e_pri[:,k]).T)*prod_k\n",
    "    pi_ik_j = np.zeros((K,n,p))\n",
    "    new_p = np.zeros((K,p))\n",
    "    dd = np.sum(eb_pri,0)\n",
    "    for k in range(K):\n",
    "        pi_ik_j[k,:,:] = np.divide(eb_pri[k,:,:],dd)\n",
    "        weight_k = np.divide(pi_ik_j[k,:,:],np.sum(pi_ik_j[k,:,:],0))\n",
    "        #M step \n",
    "        new_p[k,:] = np.diag(np.dot(weight_k.T,Z))\n",
    "\n",
    "    return new_p"
   ]
  },
  {
   "cell_type": "code",
   "execution_count": 141,
   "id": "73f73eb0-dbd6-48df-a739-6731c247d409",
   "metadata": {},
   "outputs": [],
   "source": [
    "def em_for_p(n,p,K,initial,prior_p,X,Y,Z,tol = 1e-3,iterations=50):\n",
    "    '''\n",
    "    EM\n",
    "    param Y,X,Z :Data\n",
    "    param prior：Initial value\n",
    "    param initial: Other parameters\n",
    "    param tol：End of Iteration Threshold\n",
    "    param iterations：Maximum number of iterations\n",
    "    return：Locally optimal model parameters\n",
    "    '''\n",
    "    iteration = 0;\n",
    "    #prior_p = (prior_p+0.001)/1.001\n",
    "    while iteration < iterations:\n",
    "        new_prior_p = em_single_for_p(n,p,K,initial,prior_p,X,Y,Z)\n",
    "        p_change = (prior_p-new_prior_p)**2\n",
    "        err_norm = np.mean((np.sum(p_change,1))**0.5)\n",
    "        if err_norm<tol:\n",
    "            break\n",
    "        else:\n",
    "            prior_p = new_prior_p\n",
    "            iteration +=1\n",
    "            #print(iteration, err_norm)\n",
    "    return [new_prior_p,iteration]"
   ]
  },
  {
   "cell_type": "markdown",
   "id": "86cf6220-66b8-4b9b-8fc6-e69df5f24e56",
   "metadata": {},
   "source": [
    "### 1. Simulation Data Generator--X,Y,Z"
   ]
  },
  {
   "cell_type": "code",
   "execution_count": 142,
   "id": "cbeac70d-e88d-46ec-84c0-4e270464db7f",
   "metadata": {},
   "outputs": [],
   "source": [
    "def data_generator(n,p,rho_kj,seed):\n",
    "    \n",
    "    rng = default_rng(seed) \n",
    "    #X\n",
    "    X = rng.multivariate_normal(mean, cov, (n,), 'raise')   # nxq\n",
    "    mk_class = rng.multinomial(n, pvals=pi)\n",
    "    #mK_gamma\n",
    "    mK_gamma = []\n",
    "    mK = []\n",
    "    for k in range(K):\n",
    "        idt = np.ones(int(mk_class[k]))\n",
    "        mK.extend(idt*(k))\n",
    "        mK_gamma.extend(idt*gamma[k])\n",
    "    mK = [int(k) for k in mK]\n",
    "    # Y\n",
    "    epsilon = list(rng.normal(size=n))\n",
    "    Y = mK_gamma + np.dot(X, theta) + epsilon\n",
    "    #Z\n",
    "    Z = np.zeros((n,p))\n",
    "    for k in range(K):\n",
    "        ki_ind = [i for i,x in enumerate(mK) if x==k]\n",
    "        for j in range(p):\n",
    "            Z[ki_ind,j] = rng.binomial(1,rho_kj[k,j],len(ki_ind))\n",
    "            \n",
    "    return [X, Y, Z, np.array(mK)]"
   ]
  },
  {
   "cell_type": "markdown",
   "id": "b324f16f-ed68-40a6-b10c-ef8e44e1222e",
   "metadata": {},
   "source": [
    "### 2. Function to compute the initial value of the initial-estimator"
   ]
  },
  {
   "cell_type": "code",
   "execution_count": 143,
   "id": "6e0deb1e-e1c6-4b99-978a-371bfa4dfba8",
   "metadata": {},
   "outputs": [],
   "source": [
    "def initial_pri_est(n,K,X,Y):\n",
    "    \n",
    "    X_s = sm.add_constant(X)\n",
    "    model = sm.OLS(Y, X_s)\n",
    "    model_fit = model.fit()\n",
    "    model_res = model_fit.resid\n",
    "    c = model_res\n",
    "    clf = KMeans(n_clusters=K)\n",
    "    model_res = model_res.reshape(-1,1)\n",
    "    ff = clf.fit(model_res)\n",
    "    classgamma = ff.cluster_centers_\n",
    "    classgamma = [x[0] for x in classgamma]\n",
    "    classgamma.sort()\n",
    "    gamma_pri = [x+model_fit.params[0] for x in classgamma]\n",
    "    theta_pri = model_fit.params[1:]\n",
    "    #Estimate pi_pri\n",
    "    sample_label = pd.DataFrame({'value':c, 'label_f':ff.fit_predict(model_res),\n",
    "                         'center':np.zeros(n), 'label':ff.fit_predict(model_res)})\n",
    "    sample_label.sort_values(by = 'label_f')\n",
    "    c = []\n",
    "    for k in range(K):\n",
    "        idx_k = sample_label[sample_label['label_f']==k].index.tolist()\n",
    "        sample_label.loc[idx_k,'center'] = np.mean(sample_label.loc[idx_k,'value'])\n",
    "        c.append(np.mean(sample_label.loc[idx_k,'value']))\n",
    "    c.sort()\n",
    "    for k in range(K):\n",
    "        idx_k = sample_label[sample_label['center']==c[k]].index.tolist()\n",
    "        sample_label.loc[idx_k,'label'] = k\n",
    "        sample_label.sort_values(by = 'label')\n",
    "    counts = sample_label.label.value_counts()/n\n",
    "    pi_pri = []\n",
    "    for k in range(K):\n",
    "        pi_pri.append(counts.loc[k])\n",
    "    cs = [1]*K\n",
    "    for k in range(K):\n",
    "        idx_k = sample_label[sample_label['label']==k].index.tolist()\n",
    "        cs[k] = np.std(sample_label.loc[idx_k,'value'])\n",
    "    sigma_pri = np.mean(cs)\n",
    "    param_pri = pi_pri+gamma_pri+list(theta_pri)+[sigma_pri]\n",
    "        \n",
    "    return param_pri"
   ]
  },
  {
   "cell_type": "markdown",
   "id": "87b5f32e-fc8f-4cad-b803-645db1d458c3",
   "metadata": {},
   "source": [
    "### 3. p_kj prior"
   ]
  },
  {
   "cell_type": "code",
   "execution_count": 144,
   "id": "0efdf42e-36a4-424f-b7cf-b7e7bd163131",
   "metadata": {},
   "outputs": [],
   "source": [
    "def p_pri_est(n,p,K,initial_est, X, Y, Z):\n",
    "    #initial estimator\n",
    "    pi_ini_est = initial_est[0:K]; gamma_ini_est = initial_est[K:2*K]\n",
    "    theta_ini_est = initial_est[2*K:2*K+q]; sigma_ini_est = initial_est[-1]\n",
    "    \n",
    "    #Compute p_kj \n",
    "    c = Y-np.dot(X,theta_ini_est)\n",
    "    g = np.array(gamma_ini_est)\n",
    "    g_pi = np.array(pi_ini_est)\n",
    "    a1 = (np.ones((K,n))*c.T).T\n",
    "    a2 = np.ones((n,K))*g\n",
    "    e_pri = -(a1-a2)**2/(2*sigma_ini_est**2)\n",
    "    e_pri = function_vexp(e_pri)\n",
    "    a_pi = np.ones((n,K))*g_pi\n",
    "    pi_ik_pri = (np.divide((e_pri*a_pi).T,(np.sum(e_pri*a_pi,1)).T)).T\n",
    "    weight = np.divide(pi_ik_pri,sum(pi_ik_pri,0))\n",
    "    p_pri = np.dot(weight.T, Z)\n",
    "        \n",
    "    return p_pri"
   ]
  },
  {
   "cell_type": "markdown",
   "id": "1f68080c-8a82-46fe-9b72-6c6c9a14ee2f",
   "metadata": {},
   "source": [
    "### 4. Compute pi_ik"
   ]
  },
  {
   "cell_type": "code",
   "execution_count": 145,
   "id": "ab702ba4-94d8-4d1e-93e0-63c00a9bae8c",
   "metadata": {},
   "outputs": [],
   "source": [
    "def pi_ik_est(n,p,K,initial_est, p_est, X,Y,Z):\n",
    "    #initial estimator\n",
    "    pi_ini_est = initial_est[0:K]; gamma_ini_est = initial_est[K:2*K]\n",
    "    theta_ini_est = initial_est[2*K:2*K+q]; sigma_ini_est = initial_est[-1]\n",
    "    \n",
    "    #pi_ik_est \n",
    "    c = Y-np.dot(X,theta_ini_est)\n",
    "    g = np.array(gamma_ini_est)\n",
    "    g_pi = np.array(pi_ini_est)\n",
    "    a1 = (np.ones((K,n))*c.T).T\n",
    "    a2 = np.ones((n,K))*g\n",
    "    e_pri = -(a1-a2)**2/(2*sigma_ini_est**2)\n",
    "    e_pri = function_vexp(e_pri)\n",
    "    eb_pri = np.zeros((n,K))\n",
    "    for k in range(K):\n",
    "        eb_pri[:,k] = e_pri[:,k]*np.prod(function_vbin(p_est[k,:],Z),axis=1)\n",
    "    a_pi = np.ones((n,K))*g_pi\n",
    "    pi_est = (np.divide((eb_pri*a_pi).T,(np.sum(eb_pri*a_pi,1)).T)).T\n",
    "        \n",
    "    return pi_est"
   ]
  },
  {
   "cell_type": "markdown",
   "id": "763bc378-4259-4bc6-9bbc-44fe481103c0",
   "metadata": {},
   "source": [
    "### 5. Define a mapping: random number seed$\\mapsto$p estimator"
   ]
  },
  {
   "cell_type": "code",
   "execution_count": 159,
   "id": "2aa0c1cb-6b58-4a12-b0b0-064d414b5143",
   "metadata": {},
   "outputs": [],
   "source": [
    "def map_fun(b):\n",
    "    #print(b)\n",
    "    X, Y, Z, a_ik = data_generator(n,p,rho_kj, seed = b) \n",
    "    \n",
    "    initial_pri = initial_pri_est(n, K, X, Y)   #initial prior\n",
    "    initial_est, initial_iter = initial_em(n,K, initial_pri, X, Y) # initial estimator\n",
    "    \n",
    "    p_pri = p_pri_est(n,p,K,initial_est, X, Y, Z)  #p_kj prior\n",
    "    p_est, p_iter = em_for_p(n,p,K,initial_est,p_pri,X, Y, Z) # p_kj estimator\n",
    "    \n",
    "    pi_est = pi_ik_est(n,p,K,initial_est, p_est, X, Y, Z)\n",
    "    \n",
    "    a_ik_matrix = np.zeros((n,K))\n",
    "    st = 0\n",
    "    for k in range(K):\n",
    "        le = (a_ik==k).tolist().count(True)\n",
    "        a_ik_matrix[st:(st+le),k] = 1\n",
    "        st += le\n",
    "    \n",
    "    X_a = np.append(a_ik_matrix,X,axis=1)\n",
    "    # Oralce ols\n",
    "    trt_inv_a = np.dot(np.linalg.inv(np.dot(X_a.T,X_a)),X_a.T)\n",
    "    Phi_ideal = np.dot(trt_inv_a,Y)\n",
    "    # Real\n",
    "    X_pi = np.append(pi_est,X,axis=1)\n",
    "    trt_inv_pi = np.dot(np.linalg.inv(np.dot(X_pi.T,X_pi)),X_pi.T)\n",
    "    Phi_real = np.dot(trt_inv_pi,Y)\n",
    "    \n",
    "    pi_real = [len((np.where(pi_est.argmax(axis=1)==k))[0])/n for k in range(K)]\n",
    "    pi_ideal = [len(np.where(a_ik==k)[0])/n for k in range(K)]\n",
    "    \n",
    "    sigma_real = np.sum((Y-np.dot(X_pi,Phi_real))**2)/n\n",
    "    sigma_ideal = np.sum((Y-np.dot(X_a,Phi_ideal))**2)/n\n",
    "    \n",
    "    Omega_real = pi_real + list(Phi_real) + [sigma_real]\n",
    "    Omega_ideal = pi_ideal + list(Phi_ideal) + [sigma_ideal]\n",
    "    \n",
    "    return [Omega_ideal, Omega_real] "
   ]
  },
  {
   "cell_type": "markdown",
   "id": "bf39cf7d-b474-481f-8ca9-d72283f44795",
   "metadata": {},
   "source": [
    "### 6. Setting for simulation"
   ]
  },
  {
   "cell_type": "code",
   "execution_count": 218,
   "id": "bbb6c07b-de1f-4b66-a8b8-de227f59c79e",
   "metadata": {},
   "outputs": [],
   "source": [
    "n = 500; p = 100; B=500;"
   ]
  },
  {
   "cell_type": "code",
   "execution_count": 219,
   "id": "09abca8a-8133-4f28-8866-c08b9e41a692",
   "metadata": {},
   "outputs": [],
   "source": [
    "#1 生成p_kj\n",
    "rd = np.random.RandomState(1234) \n",
    "rho_kj = rd.uniform(0.01,0.3,(K,p))\n",
    "def function_2(x):\n",
    "    return round(x,2)\n",
    "function_vector = np.vectorize(function_2)\n",
    "rho_kj = function_vector(rho_kj)\n",
    "diag_pk = rd.uniform(0.8,0.95,int(p/K))\n",
    "diag_pk = function_vector(diag_pk)\n",
    "for k in range(K):\n",
    "    np.random.shuffle(diag_pk)\n",
    "    rho_kj[k,k*int(p/K):(k+1)*int(p/K)] = diag_pk"
   ]
  },
  {
   "cell_type": "markdown",
   "id": "20cf9eb8-dc49-4f55-b916-a8d3464c9cb2",
   "metadata": {},
   "source": [
    "### 7. Calling multiple processes for simulation experiments"
   ]
  },
  {
   "cell_type": "code",
   "execution_count": 220,
   "id": "f2e896c8-b24f-40af-af59-39de38db2395",
   "metadata": {},
   "outputs": [
    {
     "name": "stdout",
     "output_type": "stream",
     "text": [
      "173.72160983085632\n"
     ]
    }
   ],
   "source": [
    "tic1 = time()\n",
    "\n",
    "with mp.Pool(NUM_PROCESS) as pool: \n",
    "    Results1 = pool.map(map_fun, range(B))\n",
    "\n",
    "toc1 = time()\n",
    "print(toc1 - tic1) # total time"
   ]
  },
  {
   "cell_type": "markdown",
   "id": "9a577c20-d53d-411e-9451-40eb4b207b27",
   "metadata": {},
   "source": [
    "### 8. Obtain Results"
   ]
  },
  {
   "cell_type": "code",
   "execution_count": 221,
   "id": "0474b6bc-8d25-4d64-89e0-844b822e0e0a",
   "metadata": {},
   "outputs": [],
   "source": [
    "Omega_ideal_500_100 = np.zeros((B,2*K+q+1))\n",
    "Omega_real_500_100 = np.zeros((B,2*K+q+1))\n",
    "for b in range(B):\n",
    "    Omega_ideal_500_100[b,:] = Results1[b][0]\n",
    "    Omega_real_500_100[b,:] = Results1[b][1]"
   ]
  },
  {
   "cell_type": "code",
   "execution_count": 222,
   "id": "d52b50ca-ce3e-4796-8dcc-fd2d87984b37",
   "metadata": {},
   "outputs": [],
   "source": [
    "pd.DataFrame(Omega_ideal_500_100).to_csv(\"Omega_ideal_500_100.csv\",index=False)\n",
    "pd.DataFrame(Omega_real_500_100).to_csv(\"Omega_real_500_100.csv\",index=False)"
   ]
  },
  {
   "cell_type": "code",
   "execution_count": 223,
   "id": "9b979489-2912-4827-8007-a43ac4bd9fb1",
   "metadata": {},
   "outputs": [],
   "source": [
    "Omega_diff_500_100 = np.sum((Omega_real_500_100 - Omega_ideal_500_100)**2, axis=1)**0.5"
   ]
  },
  {
   "cell_type": "code",
   "execution_count": null,
   "id": "2da00c5d-db87-4b11-9534-cca0a3ae537d",
   "metadata": {},
   "outputs": [],
   "source": []
  },
  {
   "cell_type": "code",
   "execution_count": null,
   "id": "4806b948-d4ff-454c-a8d7-01bf7a92713f",
   "metadata": {},
   "outputs": [],
   "source": []
  }
 ],
 "metadata": {
  "kernelspec": {
   "display_name": "myconda",
   "language": "python",
   "name": "myconda"
  },
  "language_info": {
   "codemirror_mode": {
    "name": "ipython",
    "version": 3
   },
   "file_extension": ".py",
   "mimetype": "text/x-python",
   "name": "python",
   "nbconvert_exporter": "python",
   "pygments_lexer": "ipython3",
   "version": "3.10.12"
  }
 },
 "nbformat": 4,
 "nbformat_minor": 5
}
