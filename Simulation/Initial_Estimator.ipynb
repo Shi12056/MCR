{
 "cells": [
  {
   "cell_type": "markdown",
   "id": "99c1f3c0-8208-4bac-82a6-44eedae57bed",
   "metadata": {},
   "source": [
    "### View the current logical CPU count of the server"
   ]
  },
  {
   "cell_type": "code",
   "execution_count": 1,
   "id": "6c46852e-fbb3-488a-9507-719df4e2d70b",
   "metadata": {
    "tags": []
   },
   "outputs": [
    {
     "name": "stdout",
     "output_type": "stream",
     "text": [
      "CPU total: 128\n"
     ]
    }
   ],
   "source": [
    "import os\n",
    "\n",
    "NUM_CPU = len(os.sched_getaffinity(0)) #os.cpu_count() \n",
    "\n",
    "print(f'CPU total: {NUM_CPU}')"
   ]
  },
  {
   "cell_type": "markdown",
   "id": "19213449-c0ad-4197-b996-59f507d3b277",
   "metadata": {},
   "source": [
    "### Limit the number of threads that can be called by a single process"
   ]
  },
  {
   "cell_type": "code",
   "execution_count": 2,
   "id": "f322b962-4c1e-457a-aa78-26739f9dd273",
   "metadata": {
    "tags": []
   },
   "outputs": [
    {
     "name": "stdout",
     "output_type": "stream",
     "text": [
      "Maximum number of parallel processes: 32\n"
     ]
    }
   ],
   "source": [
    "NUM_THREADS = 4 \n",
    "\n",
    "os.environ[\"MKL_NUM_THREADS\"]     = str(NUM_THREADS)\n",
    "os.environ[\"NUMEXPR_NUM_THREADS\"] = str(NUM_THREADS)\n",
    "os.environ[\"OMP_NUM_THREADS\"]     = str(NUM_THREADS)\n",
    "\n",
    "NUM_PROCESS = NUM_CPU // NUM_THREADS\n",
    "print(f'Maximum number of parallel processes: {NUM_PROCESS}')"
   ]
  },
  {
   "cell_type": "markdown",
   "id": "c408f374-9bf6-4f3b-aa21-cddb20c76ca7",
   "metadata": {},
   "source": [
    "### Import numpy, multiprocessing and other packages"
   ]
  },
  {
   "cell_type": "code",
   "execution_count": 34,
   "id": "27a84a99-37cb-4608-929a-ea798d60f355",
   "metadata": {},
   "outputs": [],
   "source": [
    "import numpy as np\n",
    "from numpy.random import default_rng\n",
    "from time import time\n",
    "import multiprocessing as mp\n",
    "import pandas as pd\n",
    "import matplotlib.pyplot as plt\n",
    "import scipy.stats as st\n",
    "import random\n",
    "from sklearn.cluster import KMeans\n",
    "import statsmodels.api as sm\n",
    "import math"
   ]
  },
  {
   "cell_type": "markdown",
   "id": "745045b4-231d-492d-809f-9fd07c44af2e",
   "metadata": {},
   "source": [
    "### Global invariant parameters"
   ]
  },
  {
   "cell_type": "code",
   "execution_count": 15,
   "id": "749821a6-435d-4e13-b5d0-01c4d00a9f71",
   "metadata": {},
   "outputs": [],
   "source": [
    "K = 5; q = 8;\n",
    "# True Parameters\n",
    "sigma = 1; theta = [3,1.5,0,0,2,0,0,0]; gamma = list(range(-4,3*K-4,3));\n",
    "pi = [0.15,0.2,0.3,0.25,0.1]\n",
    "mean = np.zeros(q)\n",
    "rho = 0.5\n",
    "i, j = np.mgrid[:q, :q]\n",
    "cov = rho**abs(i-j)"
   ]
  },
  {
   "cell_type": "markdown",
   "id": "03d4108f-9fcb-4a36-9c0c-1999b5b3f649",
   "metadata": {},
   "source": [
    "### Some functions needed for global calculations"
   ]
  },
  {
   "cell_type": "code",
   "execution_count": 16,
   "id": "c65c8cba-1d3c-4bb3-9050-3c4d5287f63a",
   "metadata": {},
   "outputs": [],
   "source": [
    "def dup_rows(a, indx, num_dups=1):\n",
    "    return np.insert(a,[indx+1]*num_dups,a[indx],axis=0)\n",
    "\n",
    "def dup_cols(a, indx, num_dups=1):\n",
    "    return np.insert(a,[indx+1]*num_dups,a[:,[indx]],axis=1)\n",
    "def function_exp(x):\n",
    "    return np.exp(x)\n",
    "function_vexp = np.vectorize(function_exp)\n",
    "def function_bin(p,x):\n",
    "    return (p**x)*(1-p)**(1-x)\n",
    "function_vbin = np.vectorize(function_bin)"
   ]
  },
  {
   "cell_type": "markdown",
   "id": "9c802e40-053a-46a6-9f19-501ecb2809c9",
   "metadata": {},
   "source": [
    "### Initial-EM"
   ]
  },
  {
   "cell_type": "code",
   "execution_count": 25,
   "id": "7cd480c3-e9b0-41cb-b9db-acc570670860",
   "metadata": {},
   "outputs": [],
   "source": [
    "#Section 2.2-The initial estimator-EM\n",
    "def em_single_initial(n,priors,X,Y):\n",
    "    '''\n",
    "    EM\n",
    "    Arguments:\n",
    "    priors:[pi_t,gamma_t,theta_t,sigma_t]\n",
    "    Y:[n X 1 list]\n",
    "    X:[n X q matrix]\n",
    "    \n",
    "    Returns:\n",
    "    new_priors:[new_pi,new_gamma,new_theta,new_sigma]\n",
    "    pi_t = priors[1:K]; gamma_t = priors[K:2*K]\n",
    "    theta_t = priors[2*K:2*K+q]; sigma_t = priors[-1]\n",
    "    '''\n",
    "    pi_t = priors[0:K]; gamma_t = priors[K:2*K]\n",
    "    theta_t = priors[2*K:2*K+q]; sigma_t = priors[-1]\n",
    "    #E step -w_ik\n",
    "    c = Y-np.dot(X,theta_t)\n",
    "    g = np.array(gamma_t)\n",
    "    g_pi = np.array(pi_t)\n",
    "    a1 = dup_cols(np.column_stack((c,c)), indx=0, num_dups=3)\n",
    "    a2 = dup_rows(np.row_stack((g,g)), indx=0, num_dups=n-2)\n",
    "    e_pri = -(a1-a2)**2/(2*sigma_t**2)\n",
    "    e_pri = function_vexp(e_pri)\n",
    "    a_pi = dup_rows(np.row_stack((g_pi,g_pi)), indx=0, num_dups=n-2)\n",
    "    w_t1 = (np.divide((e_pri*a_pi).T,(np.sum(e_pri*a_pi,1)).T)).T\n",
    "    \n",
    "    #M step update\n",
    "    new_pi = np.average(w_t1, axis=0) \n",
    "    weight = np.divide(w_t1,sum(w_t1,0))\n",
    "    new_gamma = np.dot(weight.T, Y-np.dot(X, theta_t))\n",
    "    V = np.dot(w_t1,gamma_t)\n",
    "    trt_inv = np.dot(np.linalg.inv(np.dot(X.T,X)),X.T)\n",
    "    new_theta = np.dot(trt_inv,Y-V)\n",
    "    sum_sigma = 0\n",
    "    w_t1_gamma_t = np.dot(w_t1,gamma_t)\n",
    "    sum_sigma = {np.dot(((Y-np.dot(X,theta_t))**2).T,[1]*n)-\n",
    "              2*np.dot(np.multiply(Y-np.dot(X,theta_t),w_t1_gamma_t).T,[1]*n)+\n",
    "                np.dot(np.dot(w_t1,np.array(gamma_t)**2),[1]*n)}\n",
    "    new_sigma = (list(sum_sigma)[0]/n)**0.5\n",
    "    return list(new_pi)+list(new_gamma)+list(new_theta)+[new_sigma]"
   ]
  },
  {
   "cell_type": "markdown",
   "id": "4c7853b8-a262-4b0a-8881-a69d929902ca",
   "metadata": {},
   "source": [
    "### initial-EM- Iteration"
   ]
  },
  {
   "cell_type": "code",
   "execution_count": 26,
   "id": "76f2f3be-5655-4528-80d4-0c5444d42335",
   "metadata": {},
   "outputs": [],
   "source": [
    "def initial_em(n,prior,X,Y,tol = 1e-3,iterations=10000):\n",
    "    '''\n",
    "    EM\n",
    "    param Y,X :Data\n",
    "    param prior：Initial\n",
    "    param tol：End of Iteration Threshold\n",
    "    param iterations：Maximum number of iterations\n",
    "    return：Locally optimal model parameters\n",
    "    '''\n",
    "    iteration = 0;\n",
    "    while iteration < iterations:\n",
    "        new_prior = em_single_initial(n,prior,X,Y)\n",
    "        delta_change = abs(np.array(prior)-np.array(new_prior))\n",
    "        if sum(delta_change**2)**0.5<tol:\n",
    "            break\n",
    "        else:\n",
    "            prior = new_prior\n",
    "            iteration +=1\n",
    "    return [new_prior,iteration]"
   ]
  },
  {
   "cell_type": "markdown",
   "id": "86cf6220-66b8-4b9b-8fc6-e69df5f24e56",
   "metadata": {},
   "source": [
    "### 1. Simulation Data Generator--X,Y"
   ]
  },
  {
   "cell_type": "code",
   "execution_count": 27,
   "id": "cbeac70d-e88d-46ec-84c0-4e270464db7f",
   "metadata": {},
   "outputs": [],
   "source": [
    "def data_generator(n,seed):\n",
    "\n",
    "    rng = default_rng(seed)                                 #Setting the seed for the random number generator\n",
    "    \n",
    "    X = rng.multivariate_normal(mean, cov, (n,), 'raise')   #X nxq\n",
    "    mk_class = rng.multinomial(n, pvals=pi)\n",
    "                                                            #Generate mK_gamma\n",
    "    mK_gamma = []\n",
    "    mK = []\n",
    "    for k in range(K):\n",
    "        idt = np.ones(int(mk_class[k]))\n",
    "        mK.extend(idt*(k))\n",
    "        mK_gamma.extend(idt*gamma[k])\n",
    "    mK = [int(k) for k in mK]\n",
    "    #Generate Y\n",
    "    epsilon = list(rng.normal(size=n))\n",
    "    Y = mK_gamma + np.dot(X, theta) + epsilon\n",
    "            \n",
    "    return [X, Y]"
   ]
  },
  {
   "cell_type": "markdown",
   "id": "1f68080c-8a82-46fe-9b72-6c6c9a14ee2f",
   "metadata": {},
   "source": [
    "### 2. Function to compute the initial value of the initial-estimator"
   ]
  },
  {
   "cell_type": "code",
   "execution_count": 28,
   "id": "ab702ba4-94d8-4d1e-93e0-63c00a9bae8c",
   "metadata": {},
   "outputs": [],
   "source": [
    "def initial_pri_est(n,X,Y):\n",
    "    \n",
    "    X_s = sm.add_constant(X)\n",
    "    model = sm.OLS(Y, X_s)\n",
    "    model_fit = model.fit()\n",
    "    model_res = model_fit.resid\n",
    "    c = model_res\n",
    "    clf = KMeans(n_clusters=K)\n",
    "    model_res = model_res.reshape(-1,1)\n",
    "    ff = clf.fit(model_res)\n",
    "    classgamma = ff.cluster_centers_\n",
    "    classgamma = [x[0] for x in classgamma]\n",
    "    classgamma.sort()\n",
    "    gamma_pri = [x+model_fit.params[0] for x in classgamma]\n",
    "    theta_pri = model_fit.params[1:]\n",
    "    #To estimate pi_pri\n",
    "    sample_label = pd.DataFrame({'value':c, 'label_f':ff.fit_predict(model_res),\n",
    "                             'center':np.zeros(n), 'label':ff.fit_predict(model_res)})\n",
    "    sample_label.sort_values(by = 'label_f')\n",
    "    c = []\n",
    "    for k in range(K):\n",
    "        idx_k = sample_label[sample_label['label_f']==k].index.tolist()\n",
    "        sample_label.iloc[idx_k,2] = np.mean(sample_label.iloc[idx_k,0])\n",
    "        c.append(np.mean(sample_label.iloc[idx_k,0]))\n",
    "    c.sort()\n",
    "    for k in range(K):\n",
    "        idx_k = sample_label[sample_label['center']==c[k]].index.tolist()\n",
    "        sample_label.iloc[idx_k,3] = k\n",
    "        sample_label.sort_values(by = 'label')\n",
    "    counts = sample_label.label.value_counts()/n\n",
    "    pi_pri = []\n",
    "    for k in range(K):\n",
    "        pi_pri.append(counts.loc[k])\n",
    "    cs = [1]*K\n",
    "    for k in range(K):\n",
    "        idx_k = sample_label[sample_label['label']==k].index.tolist()\n",
    "        cs[k] = np.std(sample_label.iloc[idx_k,0])\n",
    "    sigma_pri = np.mean(cs)\n",
    "    param_pri = pi_pri+gamma_pri+list(theta_pri)+[sigma_pri]\n",
    "        \n",
    "    return param_pri"
   ]
  },
  {
   "cell_type": "markdown",
   "id": "763bc378-4259-4bc6-9bbc-44fe481103c0",
   "metadata": {},
   "source": [
    "### 3. Define a mapping: random number seed$\\mapsto$p estimator"
   ]
  },
  {
   "cell_type": "code",
   "execution_count": 29,
   "id": "2aa0c1cb-6b58-4a12-b0b0-064d414b5143",
   "metadata": {},
   "outputs": [],
   "source": [
    "def map_fun(b):\n",
    "    \n",
    "    X,Y = data_generator(n,seed = b)                            #Generate simulation data\n",
    "    initial_pri = initial_pri_est(n, X, Y)                      #Compute initial\n",
    "    \n",
    "    initial_est, initial_iter = initial_em(n,initial_pri, X, Y) #Compute Estimator and iterations\n",
    "    \n",
    "    return [initial_est, initial_iter] "
   ]
  },
  {
   "cell_type": "markdown",
   "id": "bf39cf7d-b474-481f-8ca9-d72283f44795",
   "metadata": {},
   "source": [
    "### 4. Constants setting for simulation"
   ]
  },
  {
   "cell_type": "code",
   "execution_count": 54,
   "id": "bbb6c07b-de1f-4b66-a8b8-de227f59c79e",
   "metadata": {},
   "outputs": [],
   "source": [
    "n = 5000; p = 1000;  #Dimension\n",
    "B = 500;             #Replication"
   ]
  },
  {
   "cell_type": "markdown",
   "id": "20cf9eb8-dc49-4f55-b916-a8d3464c9cb2",
   "metadata": {},
   "source": [
    "### 5. Calling multiple processes for simulation experiments"
   ]
  },
  {
   "cell_type": "code",
   "execution_count": 55,
   "id": "f2e896c8-b24f-40af-af59-39de38db2395",
   "metadata": {},
   "outputs": [
    {
     "name": "stdout",
     "output_type": "stream",
     "text": [
      "47.0075147151947\n"
     ]
    }
   ],
   "source": [
    "# Multiple Processes\n",
    "tic1 = time()\n",
    "\n",
    "with mp.Pool(NUM_PROCESS) as pool:              # Calling the NUM_PROCESS process\n",
    "    Results1 = pool.map(map_fun, range(B))\n",
    "\n",
    "toc1 = time()\n",
    "print(toc1 - tic1)                              # Total computing time"
   ]
  },
  {
   "cell_type": "markdown",
   "id": "9a577c20-d53d-411e-9451-40eb4b207b27",
   "metadata": {},
   "source": [
    "### 6. Obtain Results"
   ]
  },
  {
   "cell_type": "code",
   "execution_count": 56,
   "id": "0474b6bc-8d25-4d64-89e0-844b822e0e0a",
   "metadata": {},
   "outputs": [],
   "source": [
    "initial_est_n5000 = np.zeros((B,(2*K+q+1)))\n",
    "initial_iter_n5000 = np.ones((B))\n",
    "for b in range(B):\n",
    "    initial_est_n5000[b,:] = Results1[b][0]\n",
    "    initial_iter_n5000[b] = Results1[b][1]"
   ]
  },
  {
   "cell_type": "code",
   "execution_count": 57,
   "id": "d434e2fa-ed35-461d-a22e-4ff0d58c556e",
   "metadata": {},
   "outputs": [],
   "source": [
    "pd.DataFrame(initial_est_n5000).to_csv(\"R500_initial/initial_est_n5000.csv\",index=False)\n",
    "pd.DataFrame(initial_iter_n5000).to_csv(\"R500_initial/initial_iter_n5000.csv\",index=False)"
   ]
  },
  {
   "cell_type": "code",
   "execution_count": null,
   "id": "86c7270e-3872-43d7-9c29-c56e4339c544",
   "metadata": {},
   "outputs": [],
   "source": []
  }
 ],
 "metadata": {
  "kernelspec": {
   "display_name": "myconda",
   "language": "python",
   "name": "myconda"
  },
  "language_info": {
   "codemirror_mode": {
    "name": "ipython",
    "version": 3
   },
   "file_extension": ".py",
   "mimetype": "text/x-python",
   "name": "python",
   "nbconvert_exporter": "python",
   "pygments_lexer": "ipython3",
   "version": "3.10.12"
  }
 },
 "nbformat": 4,
 "nbformat_minor": 5
}
