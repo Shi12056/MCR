{
 "cells": [
  {
   "cell_type": "markdown",
   "id": "b9f98806",
   "metadata": {},
   "source": [
    "### View the current logical CPU count of the server"
   ]
  },
  {
   "cell_type": "code",
   "execution_count": 1,
   "id": "d621a409",
   "metadata": {
    "tags": []
   },
   "outputs": [
    {
     "name": "stdout",
     "output_type": "stream",
     "text": [
      "CPU Total: 128\n"
     ]
    }
   ],
   "source": [
    "import os\n",
    "\n",
    "NUM_CPU = len(os.sched_getaffinity(0)) #os.cpu_count() \n",
    "\n",
    "print(f'CPU Total: {NUM_CPU}')"
   ]
  },
  {
   "cell_type": "markdown",
   "id": "68c3fc73",
   "metadata": {},
   "source": [
    "### Limit the number of threads that can be called by a single process"
   ]
  },
  {
   "cell_type": "code",
   "execution_count": 2,
   "id": "957e42fa",
   "metadata": {},
   "outputs": [
    {
     "name": "stdout",
     "output_type": "stream",
     "text": [
      "Maximum number of parallel processes: 32\n"
     ]
    }
   ],
   "source": [
    "NUM_THREADS = 4 \n",
    "\n",
    "os.environ[\"MKL_NUM_THREADS\"]     = str(NUM_THREADS)\n",
    "os.environ[\"NUMEXPR_NUM_THREADS\"] = str(NUM_THREADS)\n",
    "os.environ[\"OMP_NUM_THREADS\"]     = str(NUM_THREADS)\n",
    "\n",
    "NUM_PROCESS = NUM_CPU // NUM_THREADS\n",
    "print(f'Maximum number of parallel processes: {NUM_PROCESS}')"
   ]
  },
  {
   "cell_type": "markdown",
   "id": "25ed2cfd",
   "metadata": {},
   "source": [
    "### Import numpy, multiprocessing and other packages"
   ]
  },
  {
   "cell_type": "code",
   "execution_count": 1,
   "id": "c6f19635",
   "metadata": {
    "tags": []
   },
   "outputs": [],
   "source": [
    "import numpy as np\n",
    "from numpy.random import default_rng\n",
    "from time import time\n",
    "import multiprocessing as mp\n",
    "import pandas as pd\n",
    "import matplotlib.pyplot as plt\n",
    "import scipy.stats as st\n",
    "import random\n",
    "import math"
   ]
  },
  {
   "cell_type": "markdown",
   "id": "f8d83af8",
   "metadata": {},
   "source": [
    "### Global invariant parameters"
   ]
  },
  {
   "cell_type": "code",
   "execution_count": 217,
   "id": "f8e84922",
   "metadata": {},
   "outputs": [],
   "source": [
    "K = 5; q = 8\n",
    "#True parameters\n",
    "sigma = 1; theta = [3,1.5,0,0,2,0,0,0]; gamma = list(range(-4,3*K-4,3));\n",
    "pi = [0.15,0.2,0.3,0.25,0.1]\n",
    "mean = np.zeros(q)\n",
    "rho = 0.5\n",
    "i, j = np.mgrid[:q, :q]\n",
    "cov = rho**abs(i-j)"
   ]
  },
  {
   "cell_type": "markdown",
   "id": "8b4746a5",
   "metadata": {},
   "source": [
    "### Some functions needed for global calculations"
   ]
  },
  {
   "cell_type": "code",
   "execution_count": 5,
   "id": "c27eafc3",
   "metadata": {},
   "outputs": [],
   "source": [
    "def dup_rows(a, indx, num_dups=1):\n",
    "    return np.insert(a,[indx+1]*num_dups,a[indx],axis=0)\n",
    "\n",
    "def dup_cols(a, indx, num_dups=1):\n",
    "    return np.insert(a,[indx+1]*num_dups,a[:,[indx]],axis=1)\n",
    "def function_exp(x):\n",
    "    return np.exp(x)\n",
    "function_vexp = np.vectorize(function_exp)\n",
    "def function_bin(p,x):\n",
    "    return (p**x)*(1-p)**(1-x)\n",
    "function_vbin = np.vectorize(function_bin)"
   ]
  },
  {
   "cell_type": "markdown",
   "id": "3f222536",
   "metadata": {},
   "source": [
    "### EM algorithm"
   ]
  },
  {
   "cell_type": "code",
   "execution_count": 226,
   "id": "41b9e066",
   "metadata": {},
   "outputs": [],
   "source": [
    "def em_single_for_p(n,p,K,initial,prior_p,X,Y,Z):\n",
    "    '''\n",
    "    EM\n",
    "    Arguments:\n",
    "    initial: [pi_h,gamma_h,theta_h,sigma_h]\n",
    "    priors:pj [k X 1 list]\n",
    "    Y:[n X 1 list]\n",
    "    X:[n X q matrix]\n",
    "    Z:[n X p matrix]\n",
    "    j: for p\n",
    "    \n",
    "    Returns:\n",
    "    new_priors:new_pj\n",
    "    '''\n",
    "    pi_h = initial[0:K]; gamma_h = initial[K:2*K]\n",
    "    theta_h = initial[2*K:2*K+q]; sigma_h = initial[-1]\n",
    "    p_t = prior_p\n",
    "    \n",
    "    #E step -pi_ik\n",
    "    c = Y-np.dot(X,theta_h)\n",
    "    g = np.array(gamma_h)\n",
    "    g_pi = np.array(pi_h)\n",
    "    a1 = (np.ones((K,n))*c.T).T\n",
    "    a2 = np.ones((n,K))*g\n",
    "    e_pri = -(a1-a2)**2/(2*sigma_h**2)\n",
    "    e_pri = function_vexp(e_pri)\n",
    "    eb_pri = np.zeros((K,n,p))\n",
    "    for k in range(K):\n",
    "        p_k = p_t[k,:]\n",
    "        p_k_ma = np.ones((n,p))*p_k\n",
    "        prod_k = p_k_ma*Z+(1-p_k_ma)*(1-Z)\n",
    "        eb_pri[k,:,:] = pi_h[k]*((np.ones((p,n))*e_pri[:,k]).T)*prod_k\n",
    "    pi_ik_j = np.zeros((K,n,p))\n",
    "    new_p = np.zeros((K,p))\n",
    "    dd = np.sum(eb_pri,0)\n",
    "    for k in range(K):\n",
    "        pi_ik_j[k,:,:] = np.divide(eb_pri[k,:,:],dd)\n",
    "        weight_k = np.divide(pi_ik_j[k,:,:],np.sum(pi_ik_j[k,:,:],0))\n",
    "        #M step update\n",
    "        new_p[k,:] = np.diag(np.dot(weight_k.T,Z))\n",
    "\n",
    "    return new_p"
   ]
  },
  {
   "cell_type": "markdown",
   "id": "235f305c",
   "metadata": {},
   "source": [
    "### EM - Iteration"
   ]
  },
  {
   "cell_type": "code",
   "execution_count": 218,
   "id": "901dde2b",
   "metadata": {},
   "outputs": [],
   "source": [
    "def em_for_p(n,p,K,initial,prior_p,X,Y,Z,tol = 1e-3,iterations=100):\n",
    "    '''\n",
    "    EM\n",
    "    param Y,X,Z :Data\n",
    "    param prior：Initial value\n",
    "    param initial: Other parameters\n",
    "    param tol：End of Iteration Threshold\n",
    "    param iterations：Maximum number of iterations\n",
    "    return：Locally optimal model parameters\n",
    "    '''\n",
    "    iteration = 0;\n",
    "    while iteration < iterations:\n",
    "        new_prior_p = em_single_for_p(n,p,K,initial,prior_p,X,Y,Z)\n",
    "        p_change = (prior_p-new_prior_p)**2\n",
    "        err_norm = np.mean((np.sum(p_change,1))**0.5)\n",
    "        if err_norm<tol:\n",
    "            break\n",
    "        else:\n",
    "            prior_p = new_prior_p\n",
    "            iteration +=1\n",
    "            #print(iteration, err_norm)\n",
    "    return [new_prior_p,iteration]"
   ]
  },
  {
   "cell_type": "markdown",
   "id": "479ceb4f",
   "metadata": {},
   "source": [
    "### 1. Simulation Data Generator--X,Y,Z"
   ]
  },
  {
   "cell_type": "code",
   "execution_count": 8,
   "id": "55460413",
   "metadata": {},
   "outputs": [],
   "source": [
    "def data_generator(n,p,rho_kj,seed):\n",
    "\n",
    "    rng = default_rng(seed)                                 # Setting the seed for the random number generator\n",
    "    X = rng.multivariate_normal(mean, cov, (n,), 'raise')   # X nxq\n",
    "    mk_class = rng.multinomial(n, pvals=pi)\n",
    "                                                            # Generate mK_gamma\n",
    "    mK_gamma = []\n",
    "    mK = []\n",
    "    for k in range(K):\n",
    "        idt = np.ones(int(mk_class[k]))\n",
    "        mK.extend(idt*(k))\n",
    "        mK_gamma.extend(idt*gamma[k])\n",
    "    mK = [int(k) for k in mK]\n",
    "    # Y\n",
    "    epsilon = list(rng.normal(size=n))\n",
    "    Y = mK_gamma + np.dot(X, theta) + epsilon\n",
    "    # Z\n",
    "    Z = np.zeros((n,p))\n",
    "    for k in range(K):\n",
    "        ki_ind = [i for i,x in enumerate(mK) if x==k]\n",
    "        for j in range(p):\n",
    "            Z[ki_ind,j] = rng.binomial(1,rho_kj[k,j],len(ki_ind))\n",
    "            \n",
    "    return [X, Y, Z]"
   ]
  },
  {
   "cell_type": "markdown",
   "id": "9d41d5cc",
   "metadata": {},
   "source": [
    "### 2. Function to compute the p_kj initial value matrix"
   ]
  },
  {
   "cell_type": "code",
   "execution_count": 9,
   "id": "ac15c23c",
   "metadata": {},
   "outputs": [],
   "source": [
    "def p_pri_est(n,p,K,initial_est, X, Y, Z):\n",
    "    \n",
    "    #initial estimator\n",
    "    pi_ini_est = initial_est[0:K]; gamma_ini_est = initial_est[K:2*K]\n",
    "    theta_ini_est = initial_est[2*K:2*K+q]; sigma_ini_est = initial_est[-1]\n",
    "    \n",
    "    #p_kj initial value\n",
    "    c = Y-np.dot(X,theta_ini_est)\n",
    "    g = np.array(gamma_ini_est)\n",
    "    g_pi = np.array(pi_ini_est)\n",
    "    a1 = dup_cols(np.column_stack((c,c)), indx=0, num_dups=3)\n",
    "    a2 = dup_rows(np.row_stack((g,g)), indx=0, num_dups=n-2)\n",
    "    e_pri = -(a1-a2)**2/(2*sigma_ini_est**2)\n",
    "    e_pri = function_vexp(e_pri)\n",
    "    a_pi = dup_rows(np.row_stack((g_pi,g_pi)), indx=0, num_dups=n-2)\n",
    "    pi_ik_pri = (np.divide((e_pri*a_pi).T,(np.sum(e_pri*a_pi,1)).T)).T\n",
    "    weight = np.divide(pi_ik_pri,sum(pi_ik_pri,0))\n",
    "    p_pri = np.dot(weight.T, Z)\n",
    "        \n",
    "    return p_pri"
   ]
  },
  {
   "cell_type": "markdown",
   "id": "29ecd166",
   "metadata": {},
   "source": [
    "### 3. Define a mapping: random number seed$\\mapsto$p estimator"
   ]
  },
  {
   "cell_type": "code",
   "execution_count": 220,
   "id": "c29bc4b8",
   "metadata": {},
   "outputs": [],
   "source": [
    "def map_fun(b):\n",
    "    \n",
    "    X,Y,Z = data_generator(n,p,rho_kj, seed = b) # 生成模拟数据\n",
    "    p_pri = p_pri_est(n,p,K,initial_est, X, Y, Z)#计算每次p的初值\n",
    "    \n",
    "    p_est, p_iter = em_for_p(n,p,K,initial_est,p_pri,X, Y, Z) # 计算估计量和迭代次数\n",
    "    print(p_iter)\n",
    "    return [p_est, p_iter] # 返回"
   ]
  },
  {
   "cell_type": "markdown",
   "id": "4121c86b",
   "metadata": {},
   "source": [
    "### 4. Constants setting for simulation"
   ]
  },
  {
   "cell_type": "code",
   "execution_count": 4,
   "id": "6a283bb9",
   "metadata": {
    "tags": []
   },
   "outputs": [],
   "source": [
    "n = 5000; p = 2000;   #Dimension\n",
    "B = 500;             #Rep"
   ]
  },
  {
   "cell_type": "code",
   "execution_count": 251,
   "id": "eca16ed2",
   "metadata": {},
   "outputs": [],
   "source": [
    "# Generate True p_kj\n",
    "rd = np.random.RandomState(888) \n",
    "rho_kj = rd.uniform(0.01,0.3,(K,p))\n",
    "def function_2(x):\n",
    "    return round(x,2)\n",
    "function_vector = np.vectorize(function_2)\n",
    "rho_kj = function_vector(rho_kj)\n",
    "diag_pk = rd.uniform(0.8,0.95,int(p/K))\n",
    "diag_pk = function_vector(diag_pk)\n",
    "for k in range(K):\n",
    "    np.random.shuffle(diag_pk)\n",
    "    rho_kj[k,k*int(p/K):(k+1)*int(p/K)] = diag_pk\n",
    "# Save True p_kj\n",
    "pd.DataFrame(rho_kj).to_csv(\"new_R500_responce/rho_5000_2000.csv\",index=False)"
   ]
  },
  {
   "cell_type": "code",
   "execution_count": 253,
   "id": "fbf8c438",
   "metadata": {},
   "outputs": [],
   "source": [
    "# Load Initial estimator\n",
    "initial_est = np.mean(pd.read_csv(\"new_R500_initial/initial_est_n5000.csv\"),axis=0).tolist()"
   ]
  },
  {
   "cell_type": "markdown",
   "id": "9bebbb67",
   "metadata": {},
   "source": [
    "### 5. Calling multiple processes for simulation experiments"
   ]
  },
  {
   "cell_type": "code",
   "execution_count": null,
   "id": "b0d85f99",
   "metadata": {},
   "outputs": [],
   "source": [
    "tic1 = time()\n",
    "\n",
    "with mp.Pool(NUM_PROCESS) as pool:             # Calling the NUM_PROCESS process\n",
    "    Results1 = pool.map(map_fun, range(B))\n",
    "\n",
    "toc1 = time()\n",
    "print(toc1 - tic1)                             # Total computing time"
   ]
  },
  {
   "cell_type": "markdown",
   "id": "b3a6ae0c",
   "metadata": {},
   "source": [
    "### 6. Obtain Results"
   ]
  },
  {
   "cell_type": "code",
   "execution_count": 255,
   "id": "295962c0",
   "metadata": {},
   "outputs": [],
   "source": [
    "p_est_n5000_p2000 = np.zeros((B,K,p))\n",
    "p_iter_n5000_p2000 = np.ones((B,p))\n",
    "for b in range(B):\n",
    "    p_est_n5000_p2000[b,:,:] = Results1[b][0]\n",
    "    p_iter_n5000_p2000[b,:] = Results1[b][1]"
   ]
  },
  {
   "cell_type": "code",
   "execution_count": 256,
   "id": "0f6c8b16",
   "metadata": {},
   "outputs": [],
   "source": [
    "# Save estimation results\n",
    "for b in range(B):\n",
    "    pd.DataFrame(p_est_n5000_p2000[b,:,:]).to_csv(\"new_R500_responce/n5000_p2000/rho_est_5000_2000_\"+str(b)+\".csv\",index=False)\n",
    "pd.DataFrame(p_iter_n5000_p2000).to_csv(\"new_R500_responce/n5000_p2000/rho_iter_5000_2000.csv\",index=False)"
   ]
  },
  {
   "cell_type": "code",
   "execution_count": null,
   "id": "ee314ba0",
   "metadata": {},
   "outputs": [],
   "source": []
  }
 ],
 "metadata": {
  "kernelspec": {
   "display_name": "myconda",
   "language": "python",
   "name": "myconda"
  },
  "language_info": {
   "codemirror_mode": {
    "name": "ipython",
    "version": 3
   },
   "file_extension": ".py",
   "mimetype": "text/x-python",
   "name": "python",
   "nbconvert_exporter": "python",
   "pygments_lexer": "ipython3",
   "version": "3.10.12"
  }
 },
 "nbformat": 4,
 "nbformat_minor": 5
}
