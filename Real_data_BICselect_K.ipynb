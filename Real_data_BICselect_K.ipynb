{
 "cells": [
  {
   "cell_type": "code",
   "execution_count": 2,
   "id": "f117e391",
   "metadata": {
    "tags": []
   },
   "outputs": [],
   "source": [
    "import numpy as np\n",
    "from numpy.random import default_rng\n",
    "from time import time\n",
    "import multiprocessing as mp\n",
    "import pandas as pd\n",
    "import matplotlib.pyplot as plt\n",
    "import scipy.stats as st\n",
    "import statsmodels.api as sm\n",
    "from sklearn.cluster import KMeans\n",
    "from sklearn.model_selection import train_test_split\n",
    "from sklearn import linear_model  \n",
    "import random\n",
    "import math"
   ]
  },
  {
   "cell_type": "markdown",
   "id": "b0b88ca9",
   "metadata": {},
   "source": [
    "### Some functions needed for global calculations"
   ]
  },
  {
   "cell_type": "code",
   "execution_count": 3,
   "id": "b2b7719a",
   "metadata": {
    "tags": []
   },
   "outputs": [],
   "source": [
    "def dup_rows(a, indx, num_dups=1):\n",
    "    return np.insert(a,[indx+1]*num_dups,a[indx],axis=0)\n",
    "\n",
    "def dup_cols(a, indx, num_dups=1):\n",
    "    return np.insert(a,[indx+1]*num_dups,a[:,[indx]],axis=1)\n",
    "def function_exp(x):\n",
    "    return np.exp(x)\n",
    "function_vexp = np.vectorize(function_exp)\n",
    "def function_bin(p,x):\n",
    "    return (p**x)*(1-p)**(1-x)\n",
    "function_vbin = np.vectorize(function_bin)\n",
    "def function_binlog(p,x):\n",
    "    return (x*np.log(p)+(1-x)*np.log(1-p))\n",
    "function_vbinlog = np.vectorize(function_binlog)"
   ]
  },
  {
   "cell_type": "markdown",
   "id": "94fb2d56",
   "metadata": {},
   "source": [
    "### EM"
   ]
  },
  {
   "cell_type": "code",
   "execution_count": 4,
   "id": "3ad9ebe5",
   "metadata": {
    "tags": []
   },
   "outputs": [],
   "source": [
    "#Section 2.2-The initial estimator-EM\n",
    "def em_single_initial(n,K,priors,X,Y):\n",
    "    '''\n",
    "    EM\n",
    "    Arguments:\n",
    "    priors:[pi_t,gamma_t,theta_t,sigma_t]\n",
    "    Y:[n X 1 list]\n",
    "    X:[n X q matrix]\n",
    "    \n",
    "    Returns:\n",
    "    new_priors:[new_pi,new_gamma,new_theta,new_sigma]\n",
    "    pi_t = priors[1:K]; gamma_t = priors[K:2*K]\n",
    "    theta_t = priors[2*K:2*K+q]; sigma_t = priors[-1]\n",
    "    '''\n",
    "    pi_t = priors[0:K]; gamma_t = priors[K:2*K]\n",
    "    theta_t = priors[2*K:2*K+q]; sigma_t = priors[-1]\n",
    "    #E step -w_ik\n",
    "    c = Y-np.dot(X,theta_t)\n",
    "    g = np.array(gamma_t)\n",
    "    g_pi = np.array(pi_t)\n",
    "    a1 = (np.ones((K,n))*c.T).T\n",
    "    a2 = np.ones((n,K))*g\n",
    "    e_pri = -(a1-a2)**2/(2*sigma_t**2)\n",
    "    e_pri = function_vexp(e_pri)\n",
    "    a_pi = np.ones((n,K))*g_pi\n",
    "    w_t1 = (np.divide((e_pri*a_pi).T,(np.sum(e_pri*a_pi,1)).T)).T\n",
    "    \n",
    "\n",
    "    #M step \n",
    "    new_pi = np.average(w_t1, axis=0) \n",
    "    weight = np.divide(w_t1,sum(w_t1,0))\n",
    "    new_gamma = np.dot(weight.T, Y-np.dot(X, theta_t))\n",
    "    V = np.dot(w_t1,gamma_t)\n",
    "    trt_inv = np.dot(np.linalg.inv(np.dot(X.T,X)+np.eye(q)*0.001),X.T)\n",
    "    new_theta = np.dot(trt_inv,Y-V)\n",
    "    sum_sigma = 0\n",
    "    w_t1_gamma_t = np.dot(w_t1,gamma_t)\n",
    "    sum_sigma = {np.dot(((Y-np.dot(X,theta_t))**2).T,[1]*n)-\n",
    "              2*np.dot(np.multiply(Y-np.dot(X,theta_t),w_t1_gamma_t).T,[1]*n)+\n",
    "                np.dot(np.dot(w_t1,np.array(gamma_t)**2),[1]*n)}\n",
    "    new_sigma = (list(sum_sigma)[0]/n)**0.5\n",
    "    return list(new_pi)+list(new_gamma)+list(new_theta)+[new_sigma]"
   ]
  },
  {
   "cell_type": "code",
   "execution_count": 5,
   "id": "1fef134b",
   "metadata": {
    "tags": []
   },
   "outputs": [],
   "source": [
    "def initial_em(n,K,prior,X,Y,tol = 1e-3,iterations=1000):\n",
    "    '''\n",
    "    EM\n",
    "    param Y,X :Data\n",
    "    param prior：Initial\n",
    "    param tol：End of Iteration Threshold\n",
    "    param iterations：Maximum number of iterations\n",
    "    return：Locally optimal model parameters\n",
    "    '''\n",
    "    iteration = 0;\n",
    "    while iteration < iterations:\n",
    "        new_prior = em_single_initial(n,K,prior,X,Y)\n",
    "        delta_change = abs(np.array(prior)-np.array(new_prior))\n",
    "        if sum(delta_change**2)**0.5<tol:\n",
    "            break\n",
    "        else:\n",
    "            prior = new_prior\n",
    "            iteration +=1\n",
    "    return [new_prior,iteration]"
   ]
  },
  {
   "cell_type": "code",
   "execution_count": 6,
   "id": "784cbc68",
   "metadata": {
    "tags": []
   },
   "outputs": [],
   "source": [
    "def em_single_for_p(n,p,K,initial,prior_p,X,Y,Z):\n",
    "    '''\n",
    "    EM\n",
    "    Arguments:\n",
    "    initial: [pi_h,gamma_h,theta_h,sigma_h]\n",
    "    priors:pj [k X 1 list]\n",
    "    Y:[n X 1 list]\n",
    "    X:[n X q matrix]\n",
    "    Z:[n X p matrix]\n",
    "    j: for p\n",
    "    \n",
    "    Returns:\n",
    "    new_priors:new_pj\n",
    "    '''\n",
    "    pi_h = initial[0:K]; gamma_h = initial[K:2*K]\n",
    "    theta_h = initial[2*K:2*K+q]; sigma_h = initial[-1]\n",
    "    p_t = prior_p\n",
    "    #E step -pi_ik\n",
    "    c = Y-np.dot(X,theta_h)\n",
    "    g = np.array(gamma_h)\n",
    "    g_pi = np.array(pi_h)\n",
    "    a1 = dup_cols(np.column_stack((c,c)), indx=0, num_dups=K-2)\n",
    "    a2 = dup_rows(np.row_stack((g,g)), indx=0, num_dups=n-2)\n",
    "    e_pri = -(a1-a2)**2/(2*sigma_h**2)\n",
    "    e_pri = function_vexp(e_pri)\n",
    "    eb_pri = np.zeros((K,n,p))\n",
    "    for k in range(K):\n",
    "        p_k = p_t[k,:]\n",
    "        p_k_ma = np.ones((n,p))*p_k\n",
    "        prod_k = p_k_ma*Z+(1-p_k_ma)*(1-Z)\n",
    "        eb_pri[k,:,:] = pi_h[k]*((np.ones((p,n))*e_pri[:,k]).T)*prod_k\n",
    "    pi_ik_j = np.zeros((K,n,p))\n",
    "    new_p = np.zeros((K,p))\n",
    "    dd = np.sum(eb_pri,0)\n",
    "    for k in range(K):\n",
    "        pi_ik_j[k,:,:] = np.divide(eb_pri[k,:,:],dd)\n",
    "        weight_k = np.divide(pi_ik_j[k,:,:],np.sum(pi_ik_j[k,:,:],0))\n",
    "        #M step\n",
    "        new_p[k,:] = np.diag(np.dot(weight_k.T,Z))\n",
    "\n",
    "    return new_p"
   ]
  },
  {
   "cell_type": "code",
   "execution_count": 33,
   "id": "5a1a29d0",
   "metadata": {
    "tags": []
   },
   "outputs": [],
   "source": [
    "def em_for_p(n,p,K,initial,prior_p,X,Y,Z,tol = 1e-2,iterations=50):\n",
    "    '''\n",
    "    EM\n",
    "    param Y,X,Z :Data\n",
    "    param prior：Initial value\n",
    "    param initial: Other parameters\n",
    "    param tol：End of Iteration Threshold\n",
    "    param iterations：Maximum number of iterations\n",
    "    return：Locally optimal model parameters\n",
    "    '''\n",
    "    iteration = 0;\n",
    "    prior_p = (prior_p+0.001)/1.001\n",
    "    while iteration < iterations:\n",
    "        new_prior_p = em_single_for_p(n,p,K,initial,prior_p,X,Y,Z)\n",
    "        p_change = (prior_p-new_prior_p)**2\n",
    "        err_norm = np.mean((np.sum(p_change,1))**0.5)\n",
    "        if err_norm<tol:\n",
    "            break\n",
    "        else:\n",
    "            prior_p = new_prior_p\n",
    "            iteration +=1\n",
    "            #print(iteration, err_norm)\n",
    "    return [new_prior_p,iteration]"
   ]
  },
  {
   "cell_type": "markdown",
   "id": "09435a64",
   "metadata": {},
   "source": [
    "### 1. Random split data --train and test"
   ]
  },
  {
   "cell_type": "code",
   "execution_count": 8,
   "id": "0516267b",
   "metadata": {
    "tags": []
   },
   "outputs": [],
   "source": [
    "def data_split(data, seed):\n",
    "    \n",
    "    #train and test\n",
    "    data_train, data_test = train_test_split(data, test_size = 0.5, random_state=seed)\n",
    "    Y_train = np.array(data_train['penalty_prison_length'])\n",
    "    X_train = np.array(data_train.loc[:,XZ_select])\n",
    "    Z_train = np.array(data_train.loc[:,Z_column])\n",
    "    Y_test = np.array(data_test['penalty_prison_length'])\n",
    "    X_test = np.array(data_test.loc[:,XZ_select])\n",
    "    Z_test = np.array(data_test.loc[:,Z_column])\n",
    "    n_a = len(Y_train)\n",
    "    n_e = len(Y_test)\n",
    "            \n",
    "    return [n_a, n_e, X_train, Y_train, Z_train, X_test, Y_test, Z_test]"
   ]
  },
  {
   "cell_type": "markdown",
   "id": "e49d4e92",
   "metadata": {},
   "source": [
    "### 2. Function to compute the initial value of the initial-estimator"
   ]
  },
  {
   "cell_type": "code",
   "execution_count": 9,
   "id": "ed2b2d8d",
   "metadata": {
    "tags": []
   },
   "outputs": [],
   "source": [
    "def initial_pri_est(n,K,X,Y):\n",
    "    \n",
    "    X_s = sm.add_constant(X)\n",
    "    model = sm.OLS(Y, X_s)\n",
    "    model_fit = model.fit()\n",
    "    model_res = model_fit.resid\n",
    "    c = model_res\n",
    "    clf = KMeans(n_clusters=K)\n",
    "    model_res = model_res.reshape(-1,1)\n",
    "    ff = clf.fit(model_res)\n",
    "    classgamma = ff.cluster_centers_\n",
    "    classgamma = [x[0] for x in classgamma]\n",
    "    classgamma.sort()\n",
    "    gamma_pri = [x+model_fit.params[0] for x in classgamma]\n",
    "    theta_pri = model_fit.params[1:]\n",
    "    # estimate pi_pri\n",
    "    sample_label = pd.DataFrame({'value':c, 'label_f':ff.fit_predict(model_res),\n",
    "                         'center':np.zeros(n), 'label':ff.fit_predict(model_res)})\n",
    "    sample_label.sort_values(by = 'label_f')\n",
    "    c = []\n",
    "    for k in range(K):\n",
    "        idx_k = sample_label[sample_label['label_f']==k].index.tolist()\n",
    "        sample_label.loc[idx_k,'center'] = np.mean(sample_label.loc[idx_k,'value'])\n",
    "        c.append(np.mean(sample_label.loc[idx_k,'value']))\n",
    "    c.sort()\n",
    "    for k in range(K):\n",
    "        idx_k = sample_label[sample_label['center']==c[k]].index.tolist()\n",
    "        sample_label.loc[idx_k,'label'] = k\n",
    "        sample_label.sort_values(by = 'label')\n",
    "    counts = sample_label.label.value_counts()/n\n",
    "    pi_pri = []\n",
    "    for k in range(K):\n",
    "        pi_pri.append(counts.loc[k])\n",
    "    cs = [1]*K\n",
    "    for k in range(K):\n",
    "        idx_k = sample_label[sample_label['label']==k].index.tolist()\n",
    "        cs[k] = np.std(sample_label.loc[idx_k,'value'])\n",
    "    sigma_pri = np.mean(cs)\n",
    "    param_pri = pi_pri+gamma_pri+list(theta_pri)+[sigma_pri]\n",
    "        \n",
    "    return param_pri"
   ]
  },
  {
   "cell_type": "markdown",
   "id": "559d1249",
   "metadata": {},
   "source": [
    "### 3. p_kj prior"
   ]
  },
  {
   "cell_type": "code",
   "execution_count": 10,
   "id": "82f68202",
   "metadata": {
    "tags": []
   },
   "outputs": [],
   "source": [
    "def p_pri_est(n,p,K,initial_est, X, Y, Z):\n",
    "    #initial estimator\n",
    "    pi_ini_est = initial_est[0:K]; gamma_ini_est = initial_est[K:2*K]\n",
    "    theta_ini_est = initial_est[2*K:2*K+q]; sigma_ini_est = initial_est[-1]\n",
    "    \n",
    "    #plj\n",
    "    c = Y-np.dot(X,theta_ini_est)\n",
    "    g = np.array(gamma_ini_est)\n",
    "    g_pi = np.array(pi_ini_est)\n",
    "    a1 = (np.ones((K,n))*c.T).T\n",
    "    a2 = np.ones((n,K))*g\n",
    "    e_pri = -(a1-a2)**2/(2*sigma_ini_est**2)\n",
    "    e_pri = function_vexp(e_pri)\n",
    "    a_pi = np.ones((n,K))*g_pi\n",
    "    pi_ik_pri = (np.divide((e_pri*a_pi).T,(np.sum(e_pri*a_pi,1)).T)).T\n",
    "    weight = np.divide(pi_ik_pri,sum(pi_ik_pri,0))\n",
    "    p_pri = np.dot(weight.T, Z)\n",
    "        \n",
    "    return p_pri"
   ]
  },
  {
   "cell_type": "markdown",
   "id": "08679c87",
   "metadata": {},
   "source": [
    "### 4. Compute pi_ik"
   ]
  },
  {
   "cell_type": "code",
   "execution_count": 11,
   "id": "20564fc2",
   "metadata": {
    "tags": []
   },
   "outputs": [],
   "source": [
    "def pi_ik_est(n,p,K,initial_est, p_est,Z):\n",
    "    #initial estimator\n",
    "    pi_ini_est = initial_est[0:K]; gamma_ini_est = initial_est[K:2*K]\n",
    "    theta_ini_est = initial_est[2*K:2*K+q]; sigma_ini_est = initial_est[-1]\n",
    "    \n",
    "    #pi_ik_est \n",
    "    g_pi = np.array(pi_ini_est)\n",
    "    eb_pri = np.zeros((n,K))\n",
    "    p_est[p_est<0.001] = 0.001\n",
    "    p_est[p_est>0.999] = 0.999\n",
    "    bigsum_nk = np.zeros((n,K))\n",
    "    for k in range(K):\n",
    "        bigsum_nk[:,k] = np.sum(function_vbinlog(p_est[k,:],Z), axis=1)\n",
    "    bigsum_maxk = np.max(bigsum_nk, axis=1)\n",
    "    for k in range(K):\n",
    "        eb_pri[:,k] = function_vexp(bigsum_nk[:,k]-bigsum_maxk)\n",
    "    a_pi = np.ones((n,K))*g_pi\n",
    "    pi_est = (np.divide((eb_pri*a_pi).T,(np.sum(eb_pri*a_pi,1)).T)).T\n",
    "        \n",
    "    return pi_est"
   ]
  },
  {
   "cell_type": "markdown",
   "id": "9e40f0c3",
   "metadata": {},
   "source": [
    "### 5. Compute BIC"
   ]
  },
  {
   "cell_type": "code",
   "execution_count": 22,
   "id": "f8402550",
   "metadata": {
    "tags": []
   },
   "outputs": [],
   "source": [
    "def BIC_for_K(n,p,K,initial_est, p_est, X,Y,Z):\n",
    "    #posterior\n",
    "    \n",
    "    df = 2*K+ q + p*K\n",
    "    pi_h = initial_est[0:K]; gamma_h = initial_est[K:2*K]\n",
    "    theta_h= initial_est[2*K:2*K+q]; sigma_h = initial_est[-1]\n",
    "    \n",
    "    c = Y-np.dot(X,theta_h)\n",
    "    g = np.array(gamma_h)\n",
    "    g_pi = np.array(pi_h)\n",
    "    a1 = (np.ones((K,n))*c.T).T\n",
    "    a2 = np.ones((n,K))*g\n",
    "    \n",
    "    e_pri = -(a1-a2)**2/(2*sigma_h**2)\n",
    "    e_pri = function_vexp(e_pri)/((2*math.pi*sigma_h**2)**0.5)\n",
    "    \n",
    "    eb_pri = np.zeros((K,n,p))\n",
    "    for k in range(K):\n",
    "        p_k = p_est[k,:]\n",
    "        p_k_ma = np.ones((n,p))*p_k\n",
    "        prod_k = p_k_ma*Z+(1-p_k_ma)*(1-Z)\n",
    "        eb_pri[k,:,:] = pi_h[k]*((np.ones((p,n))*e_pri[:,k]).T)*prod_k \n",
    "    loss = -2*np.sum(np.log(np.sum(eb_pri,axis=0)))\n",
    "    print(loss)\n",
    "    BIC_k = df*np.log(n)+loss\n",
    "    \n",
    "    return loss, BIC_k"
   ]
  },
  {
   "cell_type": "markdown",
   "id": "23838dba",
   "metadata": {},
   "source": [
    "### 6. Setting for simulation"
   ]
  },
  {
   "cell_type": "code",
   "execution_count": 13,
   "id": "85be5a76-3673-4cc2-adaf-a1525e92d991",
   "metadata": {
    "tags": []
   },
   "outputs": [],
   "source": [
    "demo_data = pd.read_csv('data_room_mo.csv')                      # Real data\n",
    "\n",
    "XZ_select = (pd.read_csv('XZ_select.csv')).iloc[:,0].tolist() \n",
    "\n",
    "colum = demo_data.columns.tolist()\n",
    "colum.remove('id')\n",
    "colum.remove('penalty_prison_length')\n",
    "Z_column = list(set(colum).difference(set(XZ_select)))\n",
    "\n",
    "Y_t = np.array(demo_data['penalty_prison_length'])\n",
    "X_t = np.array(demo_data.loc[:,XZ_select])\n",
    "Z_t = np.array(demo_data.loc[:,Z_column])\n",
    "\n",
    "p = len(Z_column); q = len(XZ_select)\n",
    "n = len(demo_data)\n",
    "\n",
    "BIC = pd.DataFrame({'K':list(range(1,21)),'loss': np.zeros(20), 'BIC': np.zeros(20)})"
   ]
  },
  {
   "cell_type": "markdown",
   "id": "c4e6aaa4",
   "metadata": {},
   "source": [
    "### 7. Compute BIC"
   ]
  },
  {
   "cell_type": "code",
   "execution_count": null,
   "id": "98b7217a",
   "metadata": {},
   "outputs": [],
   "source": [
    "for K in range(1,21):\n",
    "    print(K)\n",
    "    initial_pri = initial_pri_est(n, K, X_t, Y_t)\n",
    "    initial_est, initial_iter = initial_em(n,K, initial_pri, X_t, Y_t) \n",
    "    p_pri = p_pri_est(n,p,K,initial_est, X_t, Y_t, Z_t)\n",
    "    p_est, p_iter = em_for_p(n,p,K,initial_est,p_pri,X_t, Y_t, Z_t) \n",
    "    re = BIC_for_K(n,p,K,initial_est, p_est,X_t,Y_t,Z_t)\n",
    "    BIC.iloc[K-1,1:] = np.array(re)"
   ]
  },
  {
   "cell_type": "markdown",
   "id": "829ec31d-f7e6-496b-82e0-7fc2e0442842",
   "metadata": {},
   "source": [
    "### 8. Plot"
   ]
  },
  {
   "cell_type": "code",
   "execution_count": 306,
   "id": "b6883859",
   "metadata": {},
   "outputs": [
    {
     "data": {
      "image/png": "[encoded data removed]",
      "text/plain": [
       "<Figure size 432x288 with 1 Axes>"
      ]
     },
     "metadata": {
      "needs_background": "light"
     },
     "output_type": "display_data"
    }
   ],
   "source": [
    "KK = ['1','2', '3', '4', '5','6','7','8','9','10',\n",
    "     '11','12','13','14','15','16','17','18','19','20']\n",
    "scores = [np.log(BIC.iloc[0,2]), np.log(BIC.iloc[1,2]), np.log(BIC.iloc[2,2]), \n",
    "          np.log(BIC.iloc[3,2]),np.log(BIC.iloc[4,2]), np.log(BIC.iloc[5,2]), \n",
    "          np.log(BIC.iloc[6,2]), np.log(BIC.iloc[7,2]),np.log(BIC.iloc[8,2]), \n",
    "          np.log(BIC.iloc[9,2]), np.log(BIC.iloc[10,2]), np.log(BIC.iloc[11,2]),\n",
    "         np.log(BIC.iloc[12,2]), np.log(BIC.iloc[13,2]),np.log(BIC.iloc[14,2]),\n",
    "         np.log(BIC.iloc[15,2]),np.log(BIC.iloc[16,2]),np.log(BIC.iloc[17,2]),\n",
    "         np.log(BIC.iloc[18,2]),np.log(BIC.iloc[19,2])]\n",
    "plt.plot(KK, scores, c='grey')\n",
    "plt.scatter(KK, scores, c='black')\n",
    "\n",
    "#plt.grid(True, linestyle='--', alpha=0.5)\n",
    "plt.xlabel('K', fontdict={'size': 16})\n",
    "plt.ylabel('log(BIC score)', fontdict={'size': 16})\n",
    "plt.show()"
   ]
  }
 ],
 "metadata": {
  "kernelspec": {
   "display_name": "myconda",
   "language": "python",
   "name": "myconda"
  },
  "language_info": {
   "codemirror_mode": {
    "name": "ipython",
    "version": 3
   },
   "file_extension": ".py",
   "mimetype": "text/x-python",
   "name": "python",
   "nbconvert_exporter": "python",
   "pygments_lexer": "ipython3",
   "version": "3.10.12"
  }
 },
 "nbformat": 4,
 "nbformat_minor": 5
}
