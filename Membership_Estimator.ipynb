{
 "cells": [
  {
   "cell_type": "markdown",
   "id": "99c1f3c0-8208-4bac-82a6-44eedae57bed",
   "metadata": {},
   "source": [
    "### View the current logical CPU count of the server"
   ]
  },
  {
   "cell_type": "code",
   "execution_count": 1,
   "id": "6c46852e-fbb3-488a-9507-719df4e2d70b",
   "metadata": {
    "tags": []
   },
   "outputs": [
    {
     "name": "stdout",
     "output_type": "stream",
     "text": [
      "CPU total: 128\n"
     ]
    }
   ],
   "source": [
    "import os\n",
    "\n",
    "NUM_CPU = len(os.sched_getaffinity(0)) #os.cpu_count() \n",
    "\n",
    "print(f'CPU total: {NUM_CPU}')"
   ]
  },
  {
   "cell_type": "markdown",
   "id": "19213449-c0ad-4197-b996-59f507d3b277",
   "metadata": {},
   "source": [
    "### Limit the number of threads that can be called by a single process"
   ]
  },
  {
   "cell_type": "code",
   "execution_count": 2,
   "id": "f322b962-4c1e-457a-aa78-26739f9dd273",
   "metadata": {
    "tags": []
   },
   "outputs": [
    {
     "name": "stdout",
     "output_type": "stream",
     "text": [
      "Maximum number of parallel processes: 32\n"
     ]
    }
   ],
   "source": [
    "NUM_THREADS = 4 \n",
    "\n",
    "os.environ[\"MKL_NUM_THREADS\"]     = str(NUM_THREADS)\n",
    "os.environ[\"NUMEXPR_NUM_THREADS\"] = str(NUM_THREADS)\n",
    "os.environ[\"OMP_NUM_THREADS\"]     = str(NUM_THREADS)\n",
    "\n",
    "NUM_PROCESS = NUM_CPU // NUM_THREADS\n",
    "print(f'Maximum number of parallel processes: {NUM_PROCESS}')"
   ]
  },
  {
   "cell_type": "markdown",
   "id": "c408f374-9bf6-4f3b-aa21-cddb20c76ca7",
   "metadata": {},
   "source": [
    "### Import numpy, multiprocessing and other packages"
   ]
  },
  {
   "cell_type": "code",
   "execution_count": 4,
   "id": "27a84a99-37cb-4608-929a-ea798d60f355",
   "metadata": {},
   "outputs": [],
   "source": [
    "import numpy as np\n",
    "from numpy.random import default_rng\n",
    "from time import time\n",
    "import multiprocessing as mp\n",
    "import pandas as pd\n",
    "import matplotlib.pyplot as plt\n",
    "import scipy.stats as st\n",
    "import random\n",
    "import math"
   ]
  },
  {
   "cell_type": "markdown",
   "id": "745045b4-231d-492d-809f-9fd07c44af2e",
   "metadata": {},
   "source": [
    "### Global invariant parameters"
   ]
  },
  {
   "cell_type": "code",
   "execution_count": 5,
   "id": "749821a6-435d-4e13-b5d0-01c4d00a9f71",
   "metadata": {},
   "outputs": [],
   "source": [
    "K = 5; q = 8\n",
    "#True parameters\n",
    "sigma = 1; theta = [3,1.5,0,0,2,0,0,0]; gamma = list(range(-4,3*K-4,3));\n",
    "pi = [0.15,0.2,0.3,0.25,0.1]\n",
    "mean = np.zeros(q)\n",
    "rho = 0.5\n",
    "i, j = np.mgrid[:q, :q]\n",
    "cov = rho**abs(i-j)"
   ]
  },
  {
   "cell_type": "markdown",
   "id": "03d4108f-9fcb-4a36-9c0c-1999b5b3f649",
   "metadata": {},
   "source": [
    "### Some functions needed for global calculations"
   ]
  },
  {
   "cell_type": "code",
   "execution_count": 38,
   "id": "c65c8cba-1d3c-4bb3-9050-3c4d5287f63a",
   "metadata": {},
   "outputs": [],
   "source": [
    "def dup_rows(a, indx, num_dups=1):\n",
    "    return np.insert(a,[indx+1]*num_dups,a[indx],axis=0)\n",
    "\n",
    "def dup_cols(a, indx, num_dups=1):\n",
    "    return np.insert(a,[indx+1]*num_dups,a[:,[indx]],axis=1)\n",
    "def function_exp(x):\n",
    "    return np.exp(x)\n",
    "function_vexp = np.vectorize(function_exp)\n",
    "def function_bin(p,x):\n",
    "    return (p**x)*(1-p)**(1-x)\n",
    "function_vbin = np.vectorize(function_bin)\n",
    "def function_binlog(p,x):\n",
    "    return (x*np.log(p)+(1-x)*np.log(1-p))\n",
    "function_vbinlog = np.vectorize(function_binlog)"
   ]
  },
  {
   "cell_type": "markdown",
   "id": "86cf6220-66b8-4b9b-8fc6-e69df5f24e56",
   "metadata": {},
   "source": [
    "### 1. Simulation Data Generator--X,Y,Z,a_ik"
   ]
  },
  {
   "cell_type": "code",
   "execution_count": 7,
   "id": "cbeac70d-e88d-46ec-84c0-4e270464db7f",
   "metadata": {},
   "outputs": [],
   "source": [
    "def data_generator(n,p,rho_kj,seed):\n",
    "    \n",
    "    rng = default_rng(seed) #Setting the seed for the random number generator\n",
    "    X = rng.multivariate_normal(mean, cov, (n,), 'raise')   # X nxq\n",
    "    mk_class = rng.multinomial(n, pvals=pi)\n",
    "    #Generate mK_gamma\n",
    "    mK_gamma = []\n",
    "    mK = []\n",
    "    for k in range(K):\n",
    "        idt = np.ones(int(mk_class[k]))\n",
    "        mK.extend(idt*(k))\n",
    "        mK_gamma.extend(idt*gamma[k])\n",
    "    mK = [int(k) for k in mK]\n",
    "    # Y\n",
    "    epsilon = list(rng.normal(size=n))\n",
    "    Y = mK_gamma + np.dot(X, theta) + epsilon\n",
    "    # Z\n",
    "    Z = np.zeros((n,p))\n",
    "    for k in range(K):\n",
    "        ki_ind = [i for i,x in enumerate(mK) if x==k]\n",
    "        for j in range(p):\n",
    "            Z[ki_ind,j] = rng.binomial(1,rho_kj.iloc[k,j],len(ki_ind))\n",
    "            \n",
    "    return [X, Y, Z, mK]"
   ]
  },
  {
   "cell_type": "markdown",
   "id": "1f68080c-8a82-46fe-9b72-6c6c9a14ee2f",
   "metadata": {},
   "source": [
    "### 2. Function to compute pi_ik"
   ]
  },
  {
   "cell_type": "code",
   "execution_count": 39,
   "id": "ab702ba4-94d8-4d1e-93e0-63c00a9bae8c",
   "metadata": {},
   "outputs": [],
   "source": [
    "def pi_ik_est(n,p,K,initial_est, p_est, X, Y, Z):\n",
    "    #initial estimator\n",
    "    pi_ini_est = initial_est[0:K]; gamma_ini_est = initial_est[K:2*K]\n",
    "    theta_ini_est = initial_est[2*K:2*K+q]; sigma_ini_est = initial_est[-1]\n",
    "    \n",
    "    #pi_ik_est \n",
    "    c = Y-np.dot(X,theta_ini_est)\n",
    "    g = np.array(gamma_ini_est)\n",
    "    g_pi = np.array(pi_ini_est)\n",
    "    a1 = (np.ones((K,n))*c.T).T\n",
    "    a2 = np.ones((n,K))*g\n",
    "    e_pri = -(a1-a2)**2/(2*sigma_ini_est**2)\n",
    "    e_pri = function_vexp(e_pri)\n",
    "    eb_pri = np.zeros((n,K))\n",
    "    bigsum_nk = np.zeros((n,K))\n",
    "    for k in range(K):\n",
    "        bigsum_nk[:,k] = np.sum(function_vbinlog(p_est[k,:],Z), axis=1)\n",
    "    bigsum_maxk = np.max(bigsum_nk, axis=1)\n",
    "    for k in range(K):\n",
    "        eb_pri[:,k] = function_vexp(bigsum_nk[:,k]-bigsum_maxk)\n",
    "    a_pi = np.ones((n,K))*g_pi\n",
    "    pi_est = (np.divide((eb_pri*a_pi).T,(np.sum(eb_pri*a_pi,1)).T)).T\n",
    "\n",
    "    return pi_est"
   ]
  },
  {
   "cell_type": "markdown",
   "id": "763bc378-4259-4bc6-9bbc-44fe481103c0",
   "metadata": {},
   "source": [
    "### 3. Define a mapping: random number seed$\\mapsto$p estimator"
   ]
  },
  {
   "cell_type": "code",
   "execution_count": 18,
   "id": "2aa0c1cb-6b58-4a12-b0b0-064d414b5143",
   "metadata": {},
   "outputs": [],
   "source": [
    "def map_fun(b):\n",
    "    \n",
    "    X,Y,Z,a_ik = data_generator(n,p, rho_kj, seed = b)     #Generate simulation data\n",
    "    pi_est = pi_ik_est(n,p,K,initial_est, p_est, X, Y, Z)  #Compute pi_ik\n",
    "    \n",
    "    return [pi_est, a_ik] "
   ]
  },
  {
   "cell_type": "markdown",
   "id": "bf39cf7d-b474-481f-8ca9-d72283f44795",
   "metadata": {},
   "source": [
    "### 4. Constants setting for simulation"
   ]
  },
  {
   "cell_type": "code",
   "execution_count": 101,
   "id": "bbb6c07b-de1f-4b66-a8b8-de227f59c79e",
   "metadata": {},
   "outputs": [],
   "source": [
    "n = 5000; p = 5000;  #Dimension\n",
    "B = 500;             #Replication"
   ]
  },
  {
   "cell_type": "code",
   "execution_count": 102,
   "id": "527deb4b-925b-4f57-a662-04f8fe95528f",
   "metadata": {},
   "outputs": [],
   "source": [
    "#True p_kj\n",
    "rho_kj = pd.read_csv(\"new_R500_responce/rho_5000_5000.csv\")\n",
    "#p_kj Estimation\n",
    "rho_est_n5000_p5000 = np.zeros((B,K,p))\n",
    "for b in range(B):\n",
    "    rho_est_n5000_p5000[b,:,:] = pd.read_csv(\"new_R500_responce/n5000_p5000/rho_est_5000_5000_\"+str(b)+\".csv\")\n",
    "p_est = np.mean(rho_est_n5000_p5000, axis = 0)\n",
    "#Initial estimators mean\n",
    "initial_est = np.mean(pd.read_csv(\"R500_initial/initial_est_n5000.csv\"),axis=0).tolist()"
   ]
  },
  {
   "cell_type": "markdown",
   "id": "20cf9eb8-dc49-4f55-b916-a8d3464c9cb2",
   "metadata": {},
   "source": [
    "### 5. Calling multiple processes for simulation experiments"
   ]
  },
  {
   "cell_type": "code",
   "execution_count": 106,
   "id": "f2e896c8-b24f-40af-af59-39de38db2395",
   "metadata": {},
   "outputs": [
    {
     "name": "stdout",
     "output_type": "stream",
     "text": [
      "15811.333384752274\n"
     ]
    }
   ],
   "source": [
    "tic1 = time()\n",
    "\n",
    "with mp.Pool(NUM_PROCESS) as pool:                  # Calling the NUM_PROCESS process\n",
    "    Results1 = pool.map(map_fun, range(B))\n",
    "\n",
    "toc1 = time()\n",
    "print(toc1 - tic1)                                  # Total computing time"
   ]
  },
  {
   "cell_type": "markdown",
   "id": "9a577c20-d53d-411e-9451-40eb4b207b27",
   "metadata": {},
   "source": [
    "### 6. Obtain Results"
   ]
  },
  {
   "cell_type": "code",
   "execution_count": 107,
   "id": "0474b6bc-8d25-4d64-89e0-844b822e0e0a",
   "metadata": {},
   "outputs": [],
   "source": [
    "pi_est_n5000_p5000 = np.zeros((B,n,K))\n",
    "a_ik_n5000_p5000 = np.ones((B,n))\n",
    "for b in range(B):\n",
    "    pi_est_n5000_p5000[b,:,:] = Results1[b][0]\n",
    "    a_ik_n5000_p5000[b,:] = Results1[b][1]"
   ]
  },
  {
   "cell_type": "code",
   "execution_count": null,
   "id": "dc2a6dcc-7b36-4070-8785-dc542fb1b208",
   "metadata": {},
   "outputs": [],
   "source": [
    "for b in range(B):\n",
    "    pd.DataFrame(pi_est_n5000_p5000[b,:,:]).to_csv(\"R500_posterior/n5000_p5000/pi_est_5000_5000_\"+str(b)+\".csv\",index=False)\n",
    "pd.DataFrame(a_ik_n5000_p5000).to_csv(\"R500_posterior/a_ik_5000_5000.csv\",index=False)"
   ]
  },
  {
   "cell_type": "code",
   "execution_count": 108,
   "id": "0a0ec6ca-6a64-45f9-8920-affe41a27d1f",
   "metadata": {},
   "outputs": [],
   "source": []
  },
  {
   "cell_type": "code",
   "execution_count": null,
   "id": "e33a0f0e-98dc-4168-a060-6e4cb18f7b76",
   "metadata": {},
   "outputs": [],
   "source": []
  },
  {
   "cell_type": "code",
   "execution_count": null,
   "id": "d3f979c3-711a-4966-9593-bef5f0c58944",
   "metadata": {},
   "outputs": [],
   "source": []
  },
  {
   "cell_type": "code",
   "execution_count": null,
   "id": "ef38101d-c085-4adf-86c3-cb78f46089a5",
   "metadata": {},
   "outputs": [],
   "source": []
  },
  {
   "cell_type": "code",
   "execution_count": null,
   "id": "cc37c4c5-6b86-40d8-95ef-695ab032d68f",
   "metadata": {},
   "outputs": [],
   "source": []
  },
  {
   "cell_type": "code",
   "execution_count": null,
   "id": "e6aaec67-e6bd-4774-828e-0d866aeac8f3",
   "metadata": {},
   "outputs": [],
   "source": []
  }
 ],
 "metadata": {
  "kernelspec": {
   "display_name": "myconda",
   "language": "python",
   "name": "myconda"
  },
  "language_info": {
   "codemirror_mode": {
    "name": "ipython",
    "version": 3
   },
   "file_extension": ".py",
   "mimetype": "text/x-python",
   "name": "python",
   "nbconvert_exporter": "python",
   "pygments_lexer": "ipython3",
   "version": "3.10.12"
  }
 },
 "nbformat": 4,
 "nbformat_minor": 5
}
